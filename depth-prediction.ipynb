{
 "cells": [
  {
   "cell_type": "code",
   "execution_count": 10,
   "metadata": {
    "collapsed": false,
    "deletable": true,
    "editable": true
   },
   "outputs": [],
   "source": [
    "from tensorflow.contrib.layers import flatten\n",
    "from tensorflow.contrib.layers import xavier_initializer as init\n",
    "import tensorflow as tf\n",
    "\n",
    "tf.logging.set_verbosity(tf.logging.ERROR)\n",
    "\n",
    "\n",
    "def conv_layer(input, shape, strides=(1, 1, 1, 1), name=\"conv\"):\n",
    "    with tf.variable_scope(name):\n",
    "        w = tf.get_variable(\"w\", shape=shape, initializer=init())\n",
    "        b = tf.get_variable(\"b\", shape=[shape[-1]], initializer=init())\n",
    "        return tf.nn.relu(tf.nn.conv2d(input, w, strides, 'VALID') + b)\n",
    "\n",
    "    \n",
    "def conv_layer_no_act(input, shape, strides=(1, 1, 1, 1), name=\"conv\"):\n",
    "    with tf.variable_scope(name):\n",
    "        w = tf.get_variable(\"w\", shape=shape, initializer=init())\n",
    "        b = tf.get_variable(\"b\", shape=[shape[-1]], initializer=init())\n",
    "        return tf.nn.conv2d(input, w, strides, 'VALID') + b\n",
    "    \n",
    "    \n",
    "def fc_layer(input, shape, name=\"fc\"):\n",
    "    with tf.variable_scope(name):\n",
    "        w = tf.get_variable(\"w\", shape=shape, initializer=init())\n",
    "        b = tf.get_variable(\"b\", shape=[shape[-1]], initializer=init())\n",
    "        return tf.nn.relu(tf.add(tf.matmul(input, w), b))\n",
    "    \n",
    "def fc_layer_no_act(input, shape, name=\"fc\"):\n",
    "    with tf.variable_scope(name):\n",
    "        w = tf.get_variable(\"w\", shape=shape, initializer=init())\n",
    "        b = tf.get_variable(\"b\", shape=[shape[-1]], initializer=init())\n",
    "        return tf.add(tf.matmul(input, w), b)\n",
    "\n",
    "\n",
    "def pool(input):\n",
    "    return tf.nn.max_pool(input, ksize=[1, 2, 2, 1], strides=[1, 2, 2, 1], padding='VALID')"
   ]
  },
  {
   "cell_type": "code",
   "execution_count": 11,
   "metadata": {
    "collapsed": true,
    "deletable": true,
    "editable": true
   },
   "outputs": [],
   "source": [
    "import cv2\n",
    "import numpy as np\n",
    "import os\n",
    "\n",
    "folders = ['samples/basements/basement_0001a', 'samples/basements/basement_0001b', 'samples/basements/basement_0001c']\n",
    "\n",
    "X_filenames = []\n",
    "y_filenames = []\n",
    "\n",
    "for folder in folders:\n",
    "    files = os.listdir(folder)\n",
    "    images = list(map(lambda x: folder + \"/\" + x, filter(lambda x: x.endswith('.ppm'), files)))\n",
    "    depths = list(map(lambda x: folder + \"/\" + x, filter(lambda x: x.endswith('.pgm'), files)))\n",
    "    \n",
    "    if len(images) != len(depths):\n",
    "        final_len = np.min([len(images), len(depths)])\n",
    "        images = images[:final_len]\n",
    "        depths = depths[:final_len]\n",
    "    \n",
    "    X_filenames += images\n",
    "    y_filenames += depths"
   ]
  },
  {
   "cell_type": "code",
   "execution_count": 12,
   "metadata": {
    "collapsed": false,
    "deletable": true,
    "editable": true
   },
   "outputs": [],
   "source": [
    "input_shape = (None, 240, 320, 3)\n",
    "x = tf.placeholder(tf.float32, input_shape)\n",
    "y = tf.placeholder(tf.float32, None)\n",
    "keep_prob = tf.placeholder(tf.float32)\n",
    "\n",
    "normalized = tf.div(tf.subtract(x, 128), 255)\n",
    "\n",
    "fine1 = pool(conv_layer(normalized, [9, 9, 3, 63], strides=[1, 2, 2, 1], name=\"fine1\"))\n",
    "fine_shape = fine1.get_shape().as_list()\n",
    "\n",
    "coarse1 = pool(conv_layer(normalized, [11, 11, 3, 96], strides=[1, 4, 4, 1], name=\"coarse1\"))\n",
    "coarse2 = pool(conv_layer(coarse1, [5, 5, 96, 256], name=\"coarse2\"))\n",
    "coarse3 = conv_layer(coarse2, [3, 3, 256, 384], name=\"coarse3\")\n",
    "coarse4 = conv_layer(coarse3, [3, 3, 384, 384], name=\"coarse4\")\n",
    "coarse5 = tf.nn.dropout(conv_layer(coarse4, [3, 3, 384, 256], name=\"coarse5\"), keep_prob)\n",
    "coarse6 = tf.nn.dropout(fc_layer(flatten(coarse5), [16896, 4096], name=\"coarse6\"), keep_prob)\n",
    "coarse7 = fc_layer_no_act(coarse6, [4096, (fine_shape[1] * fine_shape[2])], name=\"coarse7\")\n",
    "\n",
    "reshaped = tf.reshape(coarse7, [-1, fine_shape[1], fine_shape[2], 1], name=\"reshaped\")\n",
    "\n",
    "fine2 = conv_layer(tf.concat([fine1, reshaped], 3), [5, 5, 64, 64], name=\"fine2\")\n",
    "fine3 = conv_layer_no_act(fine2, [5, 5, 64, 1], name=\"fine3\")"
   ]
  },
  {
   "cell_type": "code",
   "execution_count": 13,
   "metadata": {
    "collapsed": false,
    "deletable": true,
    "editable": true
   },
   "outputs": [],
   "source": [
    "from sklearn.utils import shuffle\n",
    "\n",
    "\n",
    "def batch_generator(X_filenames, y_filenames, batch_size=128):\n",
    "    output_shape = fine3.get_shape().as_list()\n",
    "    input_shape  = x.get_shape().as_list()\n",
    "    while 1:\n",
    "        X_filenames, y_filenames = shuffle(X_filenames, y_filenames)\n",
    "        for offset in range(0, len(X_filenames), batch_size):\n",
    "            images = X_filenames[offset:offset+batch_size]\n",
    "            depths = y_filenames[offset:offset+batch_size]\n",
    "            \n",
    "            X_results = []\n",
    "            y_results = []\n",
    "            for image in images:\n",
    "                X_results.append(cv2.resize(cv2.imread(image), (input_shape[2], input_shape[1])))\n",
    "                \n",
    "            for depth in depths:\n",
    "                arr = np.empty((output_shape[1], output_shape[2], 1))\n",
    "                arr[:, :, 0] = cv2.resize(cv2.imread(depth, -1), (output_shape[2], output_shape[1]))\n",
    "                y_results.append(arr)\n",
    "            \n",
    "            yield np.array(X_results), np.array(y_results)"
   ]
  },
  {
   "cell_type": "code",
   "execution_count": 14,
   "metadata": {
    "collapsed": false,
    "deletable": true,
    "editable": true
   },
   "outputs": [
    {
     "name": "stdout",
     "output_type": "stream",
     "text": [
      "(128, 240, 320, 3)\n",
      "(128, 50, 70, 1)\n"
     ]
    },
    {
     "data": {
      "text/plain": [
       "<matplotlib.image.AxesImage at 0x12d111d68>"
      ]
     },
     "execution_count": 14,
     "metadata": {},
     "output_type": "execute_result"
    },
    {
     "data": {
      "image/png": "[encoded data removed]",
      "text/plain": [
       "<matplotlib.figure.Figure at 0x11a477400>"
      ]
     },
     "metadata": {},
     "output_type": "display_data"
    }
   ],
   "source": [
    "from random import randint\n",
    "from matplotlib import pyplot as plt\n",
    "\n",
    "%matplotlib inline\n",
    "\n",
    "gen = batch_generator(X_filenames, y_filenames)\n",
    "img, depth = next(gen)\n",
    "print(img.shape)\n",
    "print(depth.shape)\n",
    "\n",
    "random_index = randint(0, len(img))\n",
    "fig = plt.figure()\n",
    "sp = fig.add_subplot(1, 2, 1)\n",
    "sp.imshow(img[random_index])\n",
    "sp = fig.add_subplot(1, 2, 2)\n",
    "sp.imshow(depth[random_index][:, :, 0], cmap='hot')"
   ]
  },
  {
   "cell_type": "code",
   "execution_count": 15,
   "metadata": {
    "collapsed": true,
    "deletable": true,
    "editable": true
   },
   "outputs": [],
   "source": [
    "import h5py\n",
    "import numpy as np\n",
    "\n",
    "data = h5py.File(\"samples/nyu_depth_v2_labeled.mat\")"
   ]
  },
  {
   "cell_type": "code",
   "execution_count": 46,
   "metadata": {
    "collapsed": false,
    "deletable": true,
    "editable": true
   },
   "outputs": [],
   "source": [
    "depths = np.asarray(data.get(\"depths\"))\n",
    "images = np.asarray(data.get(\"images\"))"
   ]
  },
  {
   "cell_type": "code",
   "execution_count": null,
   "metadata": {
    "collapsed": false
   },
   "outputs": [
    {
     "name": "stdout",
     "output_type": "stream",
     "text": [
      "(1449, 640, 480)\n",
      "(1449, 3, 640, 480)\n"
     ]
    }
   ],
   "source": [
    "import pickle\n",
    "\n",
    "print(depths.shape)\n",
    "print(images.shape)\n",
    "\n",
    "depths = np.array([cv2.flip(np.rot90(x, k=3), 1) for x in depths])\n",
    "\n",
    "images_reshaped = np.empty((images.shape[0], images.shape[3], images.shape[2], images.shape[1])).astype(np.uint8)\n",
    "for x in range(0, images.shape[0]):\n",
    "    image = images[x]\n",
    "    for i in range(0, image.shape[0]):\n",
    "        for j in range(0, image[i].shape[0]):\n",
    "            for k in range(0, image[i, j].shape[0]):\n",
    "                images_reshaped[x, k, j, i] = image[i, j, k] \n",
    "\n",
    "pickle.dump({\"depths\": depths, \"images\": images_reshaped}, open(\"samples/dataset.p\", \"wb\"))"
   ]
  },
  {
   "cell_type": "code",
   "execution_count": 6,
   "metadata": {
    "collapsed": true,
    "deletable": true,
    "editable": true
   },
   "outputs": [],
   "source": [
    "rate = 0.001\n",
    "\n",
    "EPOCHS = 100\n",
    "BATCH_SIZE = 128\n",
    "\n",
    "y_normalized = tf.div(tf.subtract(y, 128), 255)\n",
    "loss_operation = tf.reduce_mean(tf.squared_difference(fine3, y_normalized))\n",
    "optimizer = tf.train.AdamOptimizer(learning_rate=rate)\n",
    "training_operation = optimizer.minimize(loss_operation)"
   ]
  },
  {
   "cell_type": "code",
   "execution_count": null,
   "metadata": {
    "collapsed": true,
    "deletable": true,
    "editable": true
   },
   "outputs": [],
   "source": [
    "saver = tf.train.Saver()\n",
    "\n",
    "\n",
    "def evaluate(X_data, y_data):\n",
    "    num_examples = len(X_data)\n",
    "    total_loss = 0\n",
    "    sess = tf.get_default_session()\n",
    "    \n",
    "    gen = batch_generator(X_data, y_data, batch_size=BATCH_SIZE)\n",
    "    \n",
    "    for offset in range(0, num_examples, BATCH_SIZE):\n",
    "        batch_x, batch_y = next(gen)\n",
    "        loss = sess.run(loss_operation, feed_dict={x: batch_x, y: batch_y, keep_prob: 1.0})\n",
    "        total_loss += loss\n",
    "    return total_loss"
   ]
  },
  {
   "cell_type": "code",
   "execution_count": null,
   "metadata": {
    "collapsed": false,
    "deletable": true,
    "editable": true
   },
   "outputs": [
    {
     "name": "stdout",
     "output_type": "stream",
     "text": [
      "Epoch 1...\n",
      "128 / 1356 [13.349229s]\n",
      "256 / 1356 [13.4935s]\n",
      "384 / 1356 [12.769193s]\n",
      "512 / 1356 [12.848485s]\n",
      "640 / 1356 [12.63418s]\n",
      "768 / 1356 [13.454854s]\n",
      "896 / 1356 [13.655835s]\n",
      "1024 / 1356 [13.53333s]\n",
      "1152 / 1356 [13.506476s]\n",
      "1280 / 1356 [12.812047s]\n",
      "1356 / 1356 [7.723761s]\n",
      "Loss: 0.6232153028249741. Completed in 166.891247s\n",
      "Epoch 2...\n",
      "128 / 1356 [12.933345s]\n",
      "256 / 1356 [12.451573s]\n",
      "384 / 1356 [14.362559s]\n",
      "512 / 1356 [12.986965s]\n",
      "640 / 1356 [13.409373s]\n",
      "768 / 1356 [13.71036s]\n",
      "896 / 1356 [12.852015s]\n",
      "1024 / 1356 [14.011291s]\n",
      "1152 / 1356 [13.700491s]\n",
      "1280 / 1356 [13.655766s]\n",
      "1356 / 1356 [7.72424s]\n",
      "Loss: 0.6258718818426132. Completed in 168.856878s\n",
      "Epoch 3...\n",
      "128 / 1356 [12.536996s]\n",
      "256 / 1356 [13.398367s]\n",
      "384 / 1356 [12.698632s]\n",
      "512 / 1356 [13.393589s]\n",
      "640 / 1356 [12.823146s]\n",
      "768 / 1356 [12.865261s]\n",
      "896 / 1356 [13.18682s]\n",
      "1024 / 1356 [13.200568s]\n",
      "1152 / 1356 [13.937389s]\n",
      "1280 / 1356 [13.647314s]\n",
      "1356 / 1356 [8.224122s]\n",
      "Loss: 0.6272749379277229. Completed in 166.742102s\n",
      "Epoch 4...\n",
      "128 / 1356 [13.456007s]\n",
      "256 / 1356 [13.751956s]\n",
      "384 / 1356 [13.851944s]\n",
      "512 / 1356 [14.618315s]\n",
      "640 / 1356 [13.774598s]\n",
      "768 / 1356 [13.564495s]\n",
      "896 / 1356 [13.642064s]\n",
      "1024 / 1356 [12.868678s]\n",
      "1152 / 1356 [14.006768s]\n",
      "1280 / 1356 [12.96083s]\n",
      "1356 / 1356 [7.765633s]\n",
      "Loss: 0.6165930554270744. Completed in 171.066098s\n",
      "Epoch 5...\n",
      "128 / 1356 [13.334428s]\n",
      "256 / 1356 [12.797666s]\n",
      "384 / 1356 [13.655073s]\n",
      "512 / 1356 [13.42624s]\n",
      "640 / 1356 [12.911843s]\n",
      "768 / 1356 [13.615538s]\n",
      "896 / 1356 [13.624284s]\n",
      "1024 / 1356 [13.093319s]\n",
      "1152 / 1356 [13.563644s]\n",
      "1280 / 1356 [13.754576s]\n",
      "1356 / 1356 [8.464629s]\n",
      "Loss: 0.6160716190934181. Completed in 169.524587s\n",
      "Epoch 6...\n",
      "128 / 1356 [12.428884s]\n",
      "256 / 1356 [13.339098s]\n",
      "384 / 1356 [12.702922s]\n",
      "512 / 1356 [13.44833s]\n",
      "640 / 1356 [13.744116s]\n",
      "768 / 1356 [13.017906s]\n",
      "896 / 1356 [13.255523s]\n",
      "1024 / 1356 [13.8012s]\n",
      "1152 / 1356 [13.836481s]\n",
      "1280 / 1356 [12.908601s]\n",
      "1356 / 1356 [7.789565s]\n",
      "Loss: 0.6266479045152664. Completed in 166.907493s\n",
      "Epoch 7...\n",
      "128 / 1356 [13.116863s]\n",
      "256 / 1356 [12.579981s]\n",
      "384 / 1356 [13.752219s]\n",
      "512 / 1356 [12.919217s]\n",
      "640 / 1356 [13.672482s]\n",
      "768 / 1356 [13.657318s]\n",
      "896 / 1356 [13.104876s]\n",
      "1024 / 1356 [13.995256s]\n",
      "1152 / 1356 [13.975493s]\n",
      "1280 / 1356 [5834.236833s]\n"
     ]
    }
   ],
   "source": [
    "from sklearn.model_selection import train_test_split\n",
    "from datetime import datetime\n",
    "\n",
    "X_train, X_valid, y_train, y_valid = train_test_split(X_filenames, y_filenames, test_size=0.33)\n",
    "\n",
    "with tf.Session() as sess:\n",
    "    sess.run(tf.global_variables_initializer())\n",
    "    \n",
    "    num_elements = len(X_train)\n",
    "    gen = batch_generator(X_train, y_train, batch_size=BATCH_SIZE)\n",
    "    \n",
    "    for i in range(0, EPOCHS):\n",
    "        epoch_begin = datetime.now()\n",
    "        print(\"Epoch {}...\".format(i + 1))\n",
    "        \n",
    "        for offset in range(0, num_elements, BATCH_SIZE):\n",
    "            batch_begin = datetime.now()\n",
    "            batch_x, batch_y = next(gen)\n",
    "            sess.run(training_operation, feed_dict={x: batch_x, y: batch_y, keep_prob: 0.5})\n",
    "            print(\"{} / {} [{}s]\".format(min([offset + BATCH_SIZE, num_elements]), num_elements, (datetime.now() - batch_begin).total_seconds()))\n",
    "        loss = evaluate(X_valid, y_valid)\n",
    "        \n",
    "        print(\"Loss: {}.\\nCompleted in {}s\".format(loss, (datetime.now() - epoch_begin).total_seconds()))\n",
    "        \n",
    "        if (i + 1) % 10 == 0:\n",
    "            saver.save(sess, './model')"
   ]
  },
  {
   "cell_type": "code",
   "execution_count": null,
   "metadata": {
    "collapsed": true,
    "deletable": true,
    "editable": true
   },
   "outputs": [],
   "source": []
  }
 ],
 "metadata": {
  "kernelspec": {
   "display_name": "Python 3",
   "language": "python",
   "name": "python3"
  },
  "language_info": {
   "codemirror_mode": {
    "name": "ipython",
    "version": 3
   },
   "file_extension": ".py",
   "mimetype": "text/x-python",
   "name": "python",
   "nbconvert_exporter": "python",
   "pygments_lexer": "ipython3",
   "version": "3.5.2"
  },
  "widgets": {
   "state": {},
   "version": "1.1.2"
  }
 },
 "nbformat": 4,
 "nbformat_minor": 0
}
